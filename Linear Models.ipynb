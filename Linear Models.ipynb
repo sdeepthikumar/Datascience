{
 "cells": [
  {
   "cell_type": "code",
   "execution_count": 9,
   "metadata": {},
   "outputs": [],
   "source": [
    "from sklearn.datasets import california_housing"
   ]
  },
  {
   "cell_type": "code",
   "execution_count": 10,
   "metadata": {},
   "outputs": [],
   "source": [
    "data = california_housing.fetch_california_housing()"
   ]
  },
  {
   "cell_type": "code",
   "execution_count": 11,
   "metadata": {},
   "outputs": [
    {
     "data": {
      "text/plain": [
       "['MedInc',\n",
       " 'HouseAge',\n",
       " 'AveRooms',\n",
       " 'AveBedrms',\n",
       " 'Population',\n",
       " 'AveOccup',\n",
       " 'Latitude',\n",
       " 'Longitude']"
      ]
     },
     "execution_count": 11,
     "metadata": {},
     "output_type": "execute_result"
    }
   ],
   "source": [
    "data.feature_names"
   ]
  },
  {
   "cell_type": "code",
   "execution_count": 12,
   "metadata": {},
   "outputs": [
    {
     "data": {
      "text/plain": [
       "['MedHouseVal']"
      ]
     },
     "execution_count": 12,
     "metadata": {},
     "output_type": "execute_result"
    }
   ],
   "source": [
    "data.target_names"
   ]
  },
  {
   "cell_type": "code",
   "execution_count": 13,
   "metadata": {},
   "outputs": [],
   "source": [
    "import matplotlib.pyplot as plt\n",
    "%matplotlib inline"
   ]
  },
  {
   "cell_type": "code",
   "execution_count": 15,
   "metadata": {},
   "outputs": [
    {
     "data": {
      "text/plain": [
       "<matplotlib.collections.PathCollection at 0x191bd3c6588>"
      ]
     },
     "execution_count": 15,
     "metadata": {},
     "output_type": "execute_result"
    },
    {
     "data": {
      "image/png": "[encoded data removed]",
      "text/plain": [
       "<Figure size 432x288 with 1 Axes>"
      ]
     },
     "metadata": {
      "needs_background": "light"
     },
     "output_type": "display_data"
    }
   ],
   "source": [
    "plt.scatter(data.data[:,4], data.target,s=10,alpha=.5)"
   ]
  },
  {
   "cell_type": "code",
   "execution_count": 16,
   "metadata": {},
   "outputs": [],
   "source": [
    "import pandas as pd"
   ]
  },
  {
   "cell_type": "code",
   "execution_count": 17,
   "metadata": {},
   "outputs": [],
   "source": [
    "house_data = pd.DataFrame(data.data,columns=data.feature_names)"
   ]
  },
  {
   "cell_type": "code",
   "execution_count": 18,
   "metadata": {},
   "outputs": [
    {
     "data": {
      "text/html": [
       "<div>\n",
       "<style scoped>\n",
       "    .dataframe tbody tr th:only-of-type {\n",
       "        vertical-align: middle;\n",
       "    }\n",
       "\n",
       "    .dataframe tbody tr th {\n",
       "        vertical-align: top;\n",
       "    }\n",
       "\n",
       "    .dataframe thead th {\n",
       "        text-align: right;\n",
       "    }\n",
       "</style>\n",
       "<table border=\"1\" class=\"dataframe\">\n",
       "  <thead>\n",
       "    <tr style=\"text-align: right;\">\n",
       "      <th></th>\n",
       "      <th>MedInc</th>\n",
       "      <th>HouseAge</th>\n",
       "      <th>AveRooms</th>\n",
       "      <th>AveBedrms</th>\n",
       "      <th>Population</th>\n",
       "      <th>AveOccup</th>\n",
       "      <th>Latitude</th>\n",
       "      <th>Longitude</th>\n",
       "    </tr>\n",
       "  </thead>\n",
       "  <tbody>\n",
       "    <tr>\n",
       "      <th>0</th>\n",
       "      <td>8.3252</td>\n",
       "      <td>41.0</td>\n",
       "      <td>6.984127</td>\n",
       "      <td>1.023810</td>\n",
       "      <td>322.0</td>\n",
       "      <td>2.555556</td>\n",
       "      <td>37.88</td>\n",
       "      <td>-122.23</td>\n",
       "    </tr>\n",
       "    <tr>\n",
       "      <th>1</th>\n",
       "      <td>8.3014</td>\n",
       "      <td>21.0</td>\n",
       "      <td>6.238137</td>\n",
       "      <td>0.971880</td>\n",
       "      <td>2401.0</td>\n",
       "      <td>2.109842</td>\n",
       "      <td>37.86</td>\n",
       "      <td>-122.22</td>\n",
       "    </tr>\n",
       "    <tr>\n",
       "      <th>2</th>\n",
       "      <td>7.2574</td>\n",
       "      <td>52.0</td>\n",
       "      <td>8.288136</td>\n",
       "      <td>1.073446</td>\n",
       "      <td>496.0</td>\n",
       "      <td>2.802260</td>\n",
       "      <td>37.85</td>\n",
       "      <td>-122.24</td>\n",
       "    </tr>\n",
       "    <tr>\n",
       "      <th>3</th>\n",
       "      <td>5.6431</td>\n",
       "      <td>52.0</td>\n",
       "      <td>5.817352</td>\n",
       "      <td>1.073059</td>\n",
       "      <td>558.0</td>\n",
       "      <td>2.547945</td>\n",
       "      <td>37.85</td>\n",
       "      <td>-122.25</td>\n",
       "    </tr>\n",
       "    <tr>\n",
       "      <th>4</th>\n",
       "      <td>3.8462</td>\n",
       "      <td>52.0</td>\n",
       "      <td>6.281853</td>\n",
       "      <td>1.081081</td>\n",
       "      <td>565.0</td>\n",
       "      <td>2.181467</td>\n",
       "      <td>37.85</td>\n",
       "      <td>-122.25</td>\n",
       "    </tr>\n",
       "  </tbody>\n",
       "</table>\n",
       "</div>"
      ],
      "text/plain": [
       "   MedInc  HouseAge  AveRooms  AveBedrms  Population  AveOccup  Latitude  \\\n",
       "0  8.3252      41.0  6.984127   1.023810       322.0  2.555556     37.88   \n",
       "1  8.3014      21.0  6.238137   0.971880      2401.0  2.109842     37.86   \n",
       "2  7.2574      52.0  8.288136   1.073446       496.0  2.802260     37.85   \n",
       "3  5.6431      52.0  5.817352   1.073059       558.0  2.547945     37.85   \n",
       "4  3.8462      52.0  6.281853   1.081081       565.0  2.181467     37.85   \n",
       "\n",
       "   Longitude  \n",
       "0    -122.23  \n",
       "1    -122.22  \n",
       "2    -122.24  \n",
       "3    -122.25  \n",
       "4    -122.25  "
      ]
     },
     "execution_count": 18,
     "metadata": {},
     "output_type": "execute_result"
    }
   ],
   "source": [
    "house_data.head()"
   ]
  },
  {
   "cell_type": "code",
   "execution_count": 19,
   "metadata": {},
   "outputs": [],
   "source": [
    "house_data['Price'] = data.target"
   ]
  },
  {
   "cell_type": "code",
   "execution_count": 20,
   "metadata": {},
   "outputs": [
    {
     "data": {
      "text/html": [
       "<div>\n",
       "<style scoped>\n",
       "    .dataframe tbody tr th:only-of-type {\n",
       "        vertical-align: middle;\n",
       "    }\n",
       "\n",
       "    .dataframe tbody tr th {\n",
       "        vertical-align: top;\n",
       "    }\n",
       "\n",
       "    .dataframe thead th {\n",
       "        text-align: right;\n",
       "    }\n",
       "</style>\n",
       "<table border=\"1\" class=\"dataframe\">\n",
       "  <thead>\n",
       "    <tr style=\"text-align: right;\">\n",
       "      <th></th>\n",
       "      <th>MedInc</th>\n",
       "      <th>HouseAge</th>\n",
       "      <th>AveRooms</th>\n",
       "      <th>AveBedrms</th>\n",
       "      <th>Population</th>\n",
       "      <th>AveOccup</th>\n",
       "      <th>Latitude</th>\n",
       "      <th>Longitude</th>\n",
       "      <th>Price</th>\n",
       "    </tr>\n",
       "  </thead>\n",
       "  <tbody>\n",
       "    <tr>\n",
       "      <th>0</th>\n",
       "      <td>8.3252</td>\n",
       "      <td>41.0</td>\n",
       "      <td>6.984127</td>\n",
       "      <td>1.023810</td>\n",
       "      <td>322.0</td>\n",
       "      <td>2.555556</td>\n",
       "      <td>37.88</td>\n",
       "      <td>-122.23</td>\n",
       "      <td>4.526</td>\n",
       "    </tr>\n",
       "    <tr>\n",
       "      <th>1</th>\n",
       "      <td>8.3014</td>\n",
       "      <td>21.0</td>\n",
       "      <td>6.238137</td>\n",
       "      <td>0.971880</td>\n",
       "      <td>2401.0</td>\n",
       "      <td>2.109842</td>\n",
       "      <td>37.86</td>\n",
       "      <td>-122.22</td>\n",
       "      <td>3.585</td>\n",
       "    </tr>\n",
       "    <tr>\n",
       "      <th>2</th>\n",
       "      <td>7.2574</td>\n",
       "      <td>52.0</td>\n",
       "      <td>8.288136</td>\n",
       "      <td>1.073446</td>\n",
       "      <td>496.0</td>\n",
       "      <td>2.802260</td>\n",
       "      <td>37.85</td>\n",
       "      <td>-122.24</td>\n",
       "      <td>3.521</td>\n",
       "    </tr>\n",
       "    <tr>\n",
       "      <th>3</th>\n",
       "      <td>5.6431</td>\n",
       "      <td>52.0</td>\n",
       "      <td>5.817352</td>\n",
       "      <td>1.073059</td>\n",
       "      <td>558.0</td>\n",
       "      <td>2.547945</td>\n",
       "      <td>37.85</td>\n",
       "      <td>-122.25</td>\n",
       "      <td>3.413</td>\n",
       "    </tr>\n",
       "    <tr>\n",
       "      <th>4</th>\n",
       "      <td>3.8462</td>\n",
       "      <td>52.0</td>\n",
       "      <td>6.281853</td>\n",
       "      <td>1.081081</td>\n",
       "      <td>565.0</td>\n",
       "      <td>2.181467</td>\n",
       "      <td>37.85</td>\n",
       "      <td>-122.25</td>\n",
       "      <td>3.422</td>\n",
       "    </tr>\n",
       "  </tbody>\n",
       "</table>\n",
       "</div>"
      ],
      "text/plain": [
       "   MedInc  HouseAge  AveRooms  AveBedrms  Population  AveOccup  Latitude  \\\n",
       "0  8.3252      41.0  6.984127   1.023810       322.0  2.555556     37.88   \n",
       "1  8.3014      21.0  6.238137   0.971880      2401.0  2.109842     37.86   \n",
       "2  7.2574      52.0  8.288136   1.073446       496.0  2.802260     37.85   \n",
       "3  5.6431      52.0  5.817352   1.073059       558.0  2.547945     37.85   \n",
       "4  3.8462      52.0  6.281853   1.081081       565.0  2.181467     37.85   \n",
       "\n",
       "   Longitude  Price  \n",
       "0    -122.23  4.526  \n",
       "1    -122.22  3.585  \n",
       "2    -122.24  3.521  \n",
       "3    -122.25  3.413  \n",
       "4    -122.25  3.422  "
      ]
     },
     "execution_count": 20,
     "metadata": {},
     "output_type": "execute_result"
    }
   ],
   "source": [
    "house_data.head()"
   ]
  },
  {
   "cell_type": "code",
   "execution_count": 21,
   "metadata": {},
   "outputs": [],
   "source": [
    "from sklearn.linear_model import LinearRegression"
   ]
  },
  {
   "cell_type": "code",
   "execution_count": 22,
   "metadata": {},
   "outputs": [],
   "source": [
    "lr = LinearRegression()"
   ]
  },
  {
   "cell_type": "code",
   "execution_count": 23,
   "metadata": {},
   "outputs": [],
   "source": [
    "from sklearn.datasets import make_regression\n",
    "X,y = make_regression(n_features=1, n_samples=100, noise=15)"
   ]
  },
  {
   "cell_type": "code",
   "execution_count": 24,
   "metadata": {},
   "outputs": [
    {
     "data": {
      "text/plain": [
       "LinearRegression()"
      ]
     },
     "execution_count": 24,
     "metadata": {},
     "output_type": "execute_result"
    }
   ],
   "source": [
    "lr.fit(X,y)"
   ]
  },
  {
   "cell_type": "code",
   "execution_count": 25,
   "metadata": {},
   "outputs": [],
   "source": [
    "from sklearn.datasets import make_regression"
   ]
  },
  {
   "cell_type": "code",
   "execution_count": 26,
   "metadata": {},
   "outputs": [],
   "source": [
    "x,y = make_regression(n_features=1,n_samples=100,noise =3)"
   ]
  },
  {
   "cell_type": "code",
   "execution_count": 27,
   "metadata": {},
   "outputs": [
    {
     "data": {
      "text/plain": [
       "Text(0, 0.5, 'Y')"
      ]
     },
     "execution_count": 27,
     "metadata": {},
     "output_type": "execute_result"
    },
    {
     "data": {
      "image/png": "[encoded data removed]",
      "text/plain": [
       "<Figure size 432x288 with 1 Axes>"
      ]
     },
     "metadata": {
      "needs_background": "light"
     },
     "output_type": "display_data"
    }
   ],
   "source": [
    "plt.scatter(x,y,s=10)\n",
    "plt.xlabel('X')\n",
    "plt.ylabel('Y')"
   ]
  },
  {
   "cell_type": "code",
   "execution_count": 28,
   "metadata": {},
   "outputs": [
    {
     "data": {
      "text/plain": [
       "(100, 1)"
      ]
     },
     "execution_count": 28,
     "metadata": {},
     "output_type": "execute_result"
    }
   ],
   "source": [
    "x.shape"
   ]
  },
  {
   "cell_type": "code",
   "execution_count": 29,
   "metadata": {},
   "outputs": [
    {
     "data": {
      "text/plain": [
       "(100,)"
      ]
     },
     "execution_count": 29,
     "metadata": {},
     "output_type": "execute_result"
    }
   ],
   "source": [
    "y.shape"
   ]
  },
  {
   "cell_type": "code",
   "execution_count": 30,
   "metadata": {},
   "outputs": [
    {
     "data": {
      "text/plain": [
       "array([ 10.86093732, -19.90012997,  51.62641733,  15.77978237,\n",
       "         7.06828187,  -6.42126048, -20.92192756,  37.44937964,\n",
       "        75.13013768,  58.59768667, -47.316492  ,  -6.67555389,\n",
       "       -44.71251628, -17.75922137,   5.93574152, -17.3278517 ,\n",
       "        45.169266  ,  15.87653562, -65.0523365 ,   5.15363727,\n",
       "       -20.7862555 ,  31.88143664,  21.9399843 ,   2.60709424,\n",
       "        25.28883225,   2.82289805,   0.2631497 , -32.24599492,\n",
       "        30.10663145, -12.92228815,   1.81113371,  23.55993825,\n",
       "        13.13556827, -54.845884  , -33.34773946,  -4.84576117,\n",
       "        26.74659003,   8.43854887,   5.38076947, -69.08701297,\n",
       "        -5.72591357,   9.44088875,  23.34927282, -12.81008998,\n",
       "       -29.85374632,   8.40305511, -40.04643968, -69.1630928 ,\n",
       "        11.33419961,  17.5751353 ,  39.89486736,  17.09730782,\n",
       "       -12.4999454 ,  28.97192236, -36.92717611,  18.99203932,\n",
       "         5.5511476 ,   2.04892376,  16.91943822,   6.66784743,\n",
       "        35.42043698, -17.17932633,  15.77803422,  34.42496034,\n",
       "        10.23103557, -22.64358952,  34.15914123, -18.59899754,\n",
       "        -0.86745511, -21.30703133,   3.60695837,  -3.52698815,\n",
       "         4.52643378,   6.12025598,  22.26404076,   5.98234955,\n",
       "        30.91929377, -23.79119028,   0.79512633, -17.70242598,\n",
       "        18.13208343,  16.49397676,  15.7665231 , -35.18800516,\n",
       "        14.19941197,  38.55612549, -22.39770861,  30.07167894,\n",
       "         3.42977789,  59.90072315, -19.1720286 , -13.80938952,\n",
       "       -52.09457757,  -9.24761967,  37.23312173, -20.53639073,\n",
       "         5.02151395,  35.14402144, -34.70012239, -17.63875881])"
      ]
     },
     "execution_count": 30,
     "metadata": {},
     "output_type": "execute_result"
    }
   ],
   "source": [
    "y"
   ]
  },
  {
   "cell_type": "code",
   "execution_count": 31,
   "metadata": {},
   "outputs": [
    {
     "data": {
      "text/plain": [
       "array([[ 10.86093732],\n",
       "       [-19.90012997],\n",
       "       [ 51.62641733],\n",
       "       [ 15.77978237],\n",
       "       [  7.06828187],\n",
       "       [ -6.42126048],\n",
       "       [-20.92192756],\n",
       "       [ 37.44937964],\n",
       "       [ 75.13013768],\n",
       "       [ 58.59768667],\n",
       "       [-47.316492  ],\n",
       "       [ -6.67555389],\n",
       "       [-44.71251628],\n",
       "       [-17.75922137],\n",
       "       [  5.93574152],\n",
       "       [-17.3278517 ],\n",
       "       [ 45.169266  ],\n",
       "       [ 15.87653562],\n",
       "       [-65.0523365 ],\n",
       "       [  5.15363727],\n",
       "       [-20.7862555 ],\n",
       "       [ 31.88143664],\n",
       "       [ 21.9399843 ],\n",
       "       [  2.60709424],\n",
       "       [ 25.28883225],\n",
       "       [  2.82289805],\n",
       "       [  0.2631497 ],\n",
       "       [-32.24599492],\n",
       "       [ 30.10663145],\n",
       "       [-12.92228815],\n",
       "       [  1.81113371],\n",
       "       [ 23.55993825],\n",
       "       [ 13.13556827],\n",
       "       [-54.845884  ],\n",
       "       [-33.34773946],\n",
       "       [ -4.84576117],\n",
       "       [ 26.74659003],\n",
       "       [  8.43854887],\n",
       "       [  5.38076947],\n",
       "       [-69.08701297],\n",
       "       [ -5.72591357],\n",
       "       [  9.44088875],\n",
       "       [ 23.34927282],\n",
       "       [-12.81008998],\n",
       "       [-29.85374632],\n",
       "       [  8.40305511],\n",
       "       [-40.04643968],\n",
       "       [-69.1630928 ],\n",
       "       [ 11.33419961],\n",
       "       [ 17.5751353 ],\n",
       "       [ 39.89486736],\n",
       "       [ 17.09730782],\n",
       "       [-12.4999454 ],\n",
       "       [ 28.97192236],\n",
       "       [-36.92717611],\n",
       "       [ 18.99203932],\n",
       "       [  5.5511476 ],\n",
       "       [  2.04892376],\n",
       "       [ 16.91943822],\n",
       "       [  6.66784743],\n",
       "       [ 35.42043698],\n",
       "       [-17.17932633],\n",
       "       [ 15.77803422],\n",
       "       [ 34.42496034],\n",
       "       [ 10.23103557],\n",
       "       [-22.64358952],\n",
       "       [ 34.15914123],\n",
       "       [-18.59899754],\n",
       "       [ -0.86745511],\n",
       "       [-21.30703133],\n",
       "       [  3.60695837],\n",
       "       [ -3.52698815],\n",
       "       [  4.52643378],\n",
       "       [  6.12025598],\n",
       "       [ 22.26404076],\n",
       "       [  5.98234955],\n",
       "       [ 30.91929377],\n",
       "       [-23.79119028],\n",
       "       [  0.79512633],\n",
       "       [-17.70242598],\n",
       "       [ 18.13208343],\n",
       "       [ 16.49397676],\n",
       "       [ 15.7665231 ],\n",
       "       [-35.18800516],\n",
       "       [ 14.19941197],\n",
       "       [ 38.55612549],\n",
       "       [-22.39770861],\n",
       "       [ 30.07167894],\n",
       "       [  3.42977789],\n",
       "       [ 59.90072315],\n",
       "       [-19.1720286 ],\n",
       "       [-13.80938952],\n",
       "       [-52.09457757],\n",
       "       [ -9.24761967],\n",
       "       [ 37.23312173],\n",
       "       [-20.53639073],\n",
       "       [  5.02151395],\n",
       "       [ 35.14402144],\n",
       "       [-34.70012239],\n",
       "       [-17.63875881]])"
      ]
     },
     "execution_count": 31,
     "metadata": {},
     "output_type": "execute_result"
    }
   ],
   "source": [
    "y.reshape(-1,1)"
   ]
  },
  {
   "cell_type": "code",
   "execution_count": 32,
   "metadata": {},
   "outputs": [
    {
     "name": "stdout",
     "output_type": "stream",
     "text": [
      "[0 1 2]\n"
     ]
    },
    {
     "data": {
      "text/plain": [
       "(3,)"
      ]
     },
     "execution_count": 32,
     "metadata": {},
     "output_type": "execute_result"
    }
   ],
   "source": [
    "import numpy as np\n",
    "a1 = np.array([0, 1, 2])\n",
    "print(a1)   #a1 is a 1D array\n",
    "a1.shape"
   ]
  },
  {
   "cell_type": "code",
   "execution_count": 33,
   "metadata": {},
   "outputs": [
    {
     "data": {
      "text/plain": [
       "array([[0],\n",
       "       [1],\n",
       "       [2]])"
      ]
     },
     "execution_count": 33,
     "metadata": {},
     "output_type": "execute_result"
    }
   ],
   "source": [
    "#to convert into 2D array we use reshape((-1,1))\n",
    "a1.reshape((-1,1))"
   ]
  },
  {
   "cell_type": "code",
   "execution_count": 34,
   "metadata": {},
   "outputs": [
    {
     "data": {
      "text/plain": [
       "array([[0],\n",
       "       [1],\n",
       "       [2]])"
      ]
     },
     "execution_count": 34,
     "metadata": {},
     "output_type": "execute_result"
    }
   ],
   "source": [
    "#we can also use a1[:, np.newaxis],but he result will depend on the original shape of the array\n",
    "a1 = np.array([0, 1, 2])\n",
    "a1[:, np.newaxis]"
   ]
  },
  {
   "cell_type": "code",
   "execution_count": 35,
   "metadata": {},
   "outputs": [
    {
     "name": "stdout",
     "output_type": "stream",
     "text": [
      "[[0 1 2]]\n"
     ]
    },
    {
     "data": {
      "text/plain": [
       "array([[0],\n",
       "       [1],\n",
       "       [2]])"
      ]
     },
     "execution_count": 35,
     "metadata": {},
     "output_type": "execute_result"
    }
   ],
   "source": [
    "a2 = np.array([[0, 1, 2]])\n",
    "print(a2)\n",
    "a2.reshape((-1, 1))"
   ]
  },
  {
   "cell_type": "code",
   "execution_count": 36,
   "metadata": {},
   "outputs": [
    {
     "data": {
      "text/plain": [
       "array([[[0, 1, 2]]])"
      ]
     },
     "execution_count": 36,
     "metadata": {},
     "output_type": "execute_result"
    }
   ],
   "source": [
    "a2 = np.array([[0, 1, 2]])\n",
    "a2[:, np.newaxis] # it adds a dims in the original shape of array."
   ]
  },
  {
   "cell_type": "raw",
   "metadata": {},
   "source": [
    "A practical advantage of using .reshape((-1,1)), as it will reshape the array into 2d array regardless of the original shape. For [:, np.newaxis], the result will depend on the original shape of the array"
   ]
  },
  {
   "cell_type": "code",
   "execution_count": 37,
   "metadata": {},
   "outputs": [],
   "source": [
    "def update_params(m,b,x,y,learning_rate=0.01):\n",
    "    delta_m = 0\n",
    "    delta_b = 0\n",
    "    N = len(x)\n",
    "    for i in range(N):\n",
    "        delta_m += 2*x[i]*(y[i].reshape(-1,1)-(m*x[i]+b))\n",
    "        delta_b += -2*(y[i].reshape(-1,1)-(m*x[i]+b))\n",
    "    \n",
    "    m -= (1/N) * learning_rate * delta_m\n",
    "    b -= (1/N) * learning_rate * delta_b\n",
    "    return(m,b)"
   ]
  },
  {
   "cell_type": "code",
   "execution_count": 38,
   "metadata": {},
   "outputs": [],
   "source": [
    "def calc_gradient_descent(m,b,x,y):\n",
    "    N = len(x)\n",
    "    for i in range(20):\n",
    "        SE = np.square(y.reshape(-1,1)-(m*x+b))\n",
    "        SSE = np.sum(SE)\n",
    "        MSE = (1/N) * SSE\n",
    "        print (np.round(MSE,2),np.round(m,2),np.round(b,2))\n",
    "        m,b = update_params(m,b,x,y)"
   ]
  },
  {
   "cell_type": "code",
   "execution_count": 39,
   "metadata": {},
   "outputs": [
    {
     "name": "stdout",
     "output_type": "stream",
     "text": [
      "341.73 10 5\n",
      "353.95 [[9.64]] [[4.92]]\n",
      "366.75 [[9.28]] [[4.84]]\n",
      "380.15 [[8.91]] [[4.77]]\n",
      "394.16 [[8.53]] [[4.7]]\n",
      "408.83 [[8.14]] [[4.62]]\n",
      "424.16 [[7.75]] [[4.56]]\n",
      "440.18 [[7.34]] [[4.49]]\n",
      "456.93 [[6.93]] [[4.42]]\n",
      "474.42 [[6.51]] [[4.36]]\n",
      "492.7 [[6.08]] [[4.3]]\n",
      "511.78 [[5.64]] [[4.24]]\n",
      "531.7 [[5.19]] [[4.18]]\n",
      "552.5 [[4.74]] [[4.12]]\n",
      "574.2 [[4.27]] [[4.07]]\n",
      "596.85 [[3.79]] [[4.02]]\n",
      "620.49 [[3.31]] [[3.97]]\n",
      "645.14 [[2.81]] [[3.92]]\n",
      "670.86 [[2.3]] [[3.87]]\n",
      "697.68 [[1.79]] [[3.83]]\n"
     ]
    }
   ],
   "source": [
    "calc_gradient_descent(10,5,x,y)"
   ]
  },
  {
   "cell_type": "code",
   "execution_count": 40,
   "metadata": {},
   "outputs": [],
   "source": [
    "import numpy as np"
   ]
  },
  {
   "cell_type": "code",
   "execution_count": 41,
   "metadata": {},
   "outputs": [
    {
     "data": {
      "text/plain": [
       "2.718281828459045"
      ]
     },
     "execution_count": 41,
     "metadata": {},
     "output_type": "execute_result"
    }
   ],
   "source": [
    "np.exp(1)"
   ]
  },
  {
   "cell_type": "code",
   "execution_count": 42,
   "metadata": {},
   "outputs": [],
   "source": [
    "import pandas as pd"
   ]
  },
  {
   "cell_type": "code",
   "execution_count": 43,
   "metadata": {},
   "outputs": [],
   "source": [
    "house_data = pd.read_csv('https://raw.githubusercontent.com/edyoda/data-science-complete-tutorial/master/Data/house_rental_data.csv.txt', index_col='Unnamed: 0')"
   ]
  },
  {
   "cell_type": "code",
   "execution_count": 44,
   "metadata": {},
   "outputs": [
    {
     "data": {
      "text/html": [
       "<div>\n",
       "<style scoped>\n",
       "    .dataframe tbody tr th:only-of-type {\n",
       "        vertical-align: middle;\n",
       "    }\n",
       "\n",
       "    .dataframe tbody tr th {\n",
       "        vertical-align: top;\n",
       "    }\n",
       "\n",
       "    .dataframe thead th {\n",
       "        text-align: right;\n",
       "    }\n",
       "</style>\n",
       "<table border=\"1\" class=\"dataframe\">\n",
       "  <thead>\n",
       "    <tr style=\"text-align: right;\">\n",
       "      <th></th>\n",
       "      <th>Sqft</th>\n",
       "      <th>Floor</th>\n",
       "      <th>TotalFloor</th>\n",
       "      <th>Bedroom</th>\n",
       "      <th>Living.Room</th>\n",
       "      <th>Bathroom</th>\n",
       "      <th>Price</th>\n",
       "    </tr>\n",
       "  </thead>\n",
       "  <tbody>\n",
       "    <tr>\n",
       "      <th>1</th>\n",
       "      <td>1177.698</td>\n",
       "      <td>2</td>\n",
       "      <td>7</td>\n",
       "      <td>2</td>\n",
       "      <td>2</td>\n",
       "      <td>2</td>\n",
       "      <td>62000</td>\n",
       "    </tr>\n",
       "    <tr>\n",
       "      <th>2</th>\n",
       "      <td>2134.800</td>\n",
       "      <td>5</td>\n",
       "      <td>7</td>\n",
       "      <td>4</td>\n",
       "      <td>2</td>\n",
       "      <td>2</td>\n",
       "      <td>78000</td>\n",
       "    </tr>\n",
       "    <tr>\n",
       "      <th>3</th>\n",
       "      <td>1138.560</td>\n",
       "      <td>5</td>\n",
       "      <td>7</td>\n",
       "      <td>2</td>\n",
       "      <td>2</td>\n",
       "      <td>1</td>\n",
       "      <td>58000</td>\n",
       "    </tr>\n",
       "    <tr>\n",
       "      <th>4</th>\n",
       "      <td>1458.780</td>\n",
       "      <td>2</td>\n",
       "      <td>7</td>\n",
       "      <td>3</td>\n",
       "      <td>2</td>\n",
       "      <td>2</td>\n",
       "      <td>45000</td>\n",
       "    </tr>\n",
       "    <tr>\n",
       "      <th>5</th>\n",
       "      <td>967.776</td>\n",
       "      <td>11</td>\n",
       "      <td>14</td>\n",
       "      <td>3</td>\n",
       "      <td>2</td>\n",
       "      <td>2</td>\n",
       "      <td>45000</td>\n",
       "    </tr>\n",
       "  </tbody>\n",
       "</table>\n",
       "</div>"
      ],
      "text/plain": [
       "       Sqft  Floor  TotalFloor  Bedroom  Living.Room  Bathroom  Price\n",
       "1  1177.698      2           7        2            2         2  62000\n",
       "2  2134.800      5           7        4            2         2  78000\n",
       "3  1138.560      5           7        2            2         1  58000\n",
       "4  1458.780      2           7        3            2         2  45000\n",
       "5   967.776     11          14        3            2         2  45000"
      ]
     },
     "execution_count": 44,
     "metadata": {},
     "output_type": "execute_result"
    }
   ],
   "source": [
    "house_data.head(5)"
   ]
  },
  {
   "cell_type": "code",
   "execution_count": 45,
   "metadata": {},
   "outputs": [],
   "source": [
    "feature_data = house_data[['Sqft','Bedroom']]"
   ]
  },
  {
   "cell_type": "code",
   "execution_count": 46,
   "metadata": {},
   "outputs": [],
   "source": [
    "target_data = house_data['Price']"
   ]
  },
  {
   "cell_type": "code",
   "execution_count": 47,
   "metadata": {},
   "outputs": [],
   "source": [
    "from sklearn.linear_model import LinearRegression"
   ]
  },
  {
   "cell_type": "code",
   "execution_count": 48,
   "metadata": {},
   "outputs": [],
   "source": [
    "lr = LinearRegression()"
   ]
  },
  {
   "cell_type": "raw",
   "metadata": {},
   "source": [
    "    We don't know which form of these features are better for correct prediction\n",
    "    So, we have to try it out"
   ]
  },
  {
   "cell_type": "code",
   "execution_count": 49,
   "metadata": {},
   "outputs": [],
   "source": [
    "from sklearn.model_selection import train_test_split"
   ]
  },
  {
   "cell_type": "code",
   "execution_count": 50,
   "metadata": {},
   "outputs": [],
   "source": [
    "trainX,testX,trainY,testY = train_test_split(feature_data,target_data)"
   ]
  },
  {
   "cell_type": "code",
   "execution_count": 51,
   "metadata": {},
   "outputs": [
    {
     "data": {
      "text/plain": [
       "LinearRegression()"
      ]
     },
     "execution_count": 51,
     "metadata": {},
     "output_type": "execute_result"
    }
   ],
   "source": [
    "lr.fit(trainX,trainY)"
   ]
  },
  {
   "cell_type": "code",
   "execution_count": 52,
   "metadata": {},
   "outputs": [
    {
     "data": {
      "text/plain": [
       "0.6546883275479087"
      ]
     },
     "execution_count": 52,
     "metadata": {},
     "output_type": "execute_result"
    }
   ],
   "source": [
    "lr.score(testX,testY)"
   ]
  },
  {
   "cell_type": "code",
   "execution_count": 53,
   "metadata": {},
   "outputs": [],
   "source": [
    "from sklearn.preprocessing import PolynomialFeatures"
   ]
  },
  {
   "cell_type": "code",
   "execution_count": 54,
   "metadata": {},
   "outputs": [],
   "source": [
    "pol = PolynomialFeatures(degree=2)"
   ]
  },
  {
   "cell_type": "code",
   "execution_count": 55,
   "metadata": {},
   "outputs": [],
   "source": [
    "feature_data_tf =  pol.fit_transform(feature_data)"
   ]
  },
  {
   "cell_type": "code",
   "execution_count": 63,
   "metadata": {},
   "outputs": [
    {
     "data": {
      "text/plain": [
       "array([[1.000000e+00, 1.177698e+03, 2.000000e+00, ..., 3.200000e+01,\n",
       "        3.200000e+01, 3.200000e+01],\n",
       "       [1.000000e+00, 2.134800e+03, 4.000000e+00, ..., 2.000000e+02,\n",
       "        8.000000e+01, 3.200000e+01],\n",
       "       [1.000000e+00, 1.138560e+03, 2.000000e+00, ..., 2.000000e+02,\n",
       "        8.000000e+01, 3.200000e+01],\n",
       "       ...,\n",
       "       [1.000000e+00, 7.400640e+02, 1.000000e+00, ..., 1.690000e+02,\n",
       "        1.300000e+01, 1.000000e+00],\n",
       "       [1.000000e+00, 1.707840e+03, 3.000000e+00, ..., 7.200000e+01,\n",
       "        4.800000e+01, 3.200000e+01],\n",
       "       [1.000000e+00, 1.376946e+03, 3.000000e+00, ..., 2.880000e+02,\n",
       "        9.600000e+01, 3.200000e+01]])"
      ]
     },
     "execution_count": 63,
     "metadata": {},
     "output_type": "execute_result"
    }
   ],
   "source": [
    "feature_data_tf"
   ]
  },
  {
   "cell_type": "code",
   "execution_count": 56,
   "metadata": {},
   "outputs": [],
   "source": [
    "trainX,testX,trainY,testY = train_test_split(feature_data_tf,target_data)"
   ]
  },
  {
   "cell_type": "code",
   "execution_count": 57,
   "metadata": {},
   "outputs": [
    {
     "data": {
      "text/plain": [
       "LinearRegression()"
      ]
     },
     "execution_count": 57,
     "metadata": {},
     "output_type": "execute_result"
    }
   ],
   "source": [
    "lr.fit(trainX,trainY)"
   ]
  },
  {
   "cell_type": "code",
   "execution_count": 58,
   "metadata": {},
   "outputs": [
    {
     "data": {
      "text/plain": [
       "0.663376612879041"
      ]
     },
     "execution_count": 58,
     "metadata": {},
     "output_type": "execute_result"
    }
   ],
   "source": [
    "lr.score(testX,testY)"
   ]
  },
  {
   "cell_type": "code",
   "execution_count": 59,
   "metadata": {},
   "outputs": [
    {
     "name": "stdout",
     "output_type": "stream",
     "text": [
      "Degree 1\n",
      "Training Acc 0.68\n",
      "Testing Acc 0.7\n",
      "Degree 2\n",
      "Training Acc 0.68\n",
      "Testing Acc 0.68\n",
      "Degree 3\n",
      "Training Acc 0.71\n",
      "Testing Acc 0.71\n",
      "Degree 4\n",
      "Training Acc 0.7\n",
      "Testing Acc 0.48\n",
      "Degree 5\n",
      "Training Acc 0.74\n",
      "Testing Acc 0.01\n"
     ]
    }
   ],
   "source": [
    "for deg in range(1,6):\n",
    "    pol = PolynomialFeatures(degree=deg)\n",
    "    feature_data_tf =  pol.fit_transform(feature_data)\n",
    "    trainX,testX,trainY,testY = train_test_split(feature_data_tf,target_data)\n",
    "    lr.fit(trainX,trainY)\n",
    "    print(\"Degree\",deg)\n",
    "    print(\"Training Acc\",np.round(lr.score(trainX,trainY),2))\n",
    "    print(\"Testing Acc\",np.round(lr.score(testX,testY),2))\n",
    "    "
   ]
  },
  {
   "cell_type": "code",
   "execution_count": 60,
   "metadata": {},
   "outputs": [
    {
     "name": "stdout",
     "output_type": "stream",
     "text": [
      "Degree 1\n",
      "Training Acc 0.68\n",
      "Testing Acc 0.74\n",
      "Degree 2\n",
      "Training Acc 0.71\n",
      "Testing Acc 0.69\n",
      "Degree 3\n",
      "Training Acc 0.75\n",
      "Testing Acc 0.75\n",
      "Degree 4\n",
      "Training Acc 0.8\n",
      "Testing Acc -2.26\n",
      "Degree 5\n",
      "Training Acc 0.75\n",
      "Testing Acc -6.15\n"
     ]
    }
   ],
   "source": [
    "feature_data =  house_data[['Sqft','Bedroom','Floor','Living.Room']]\n",
    "for deg in range(1,6):\n",
    "    pol = PolynomialFeatures(degree=deg)\n",
    "    feature_data_tf =  pol.fit_transform(feature_data)\n",
    "    trainX,testX,trainY,testY = train_test_split(feature_data_tf,target_data)\n",
    "    lr.fit(trainX,trainY)\n",
    "    print(\"Degree\",deg)\n",
    "    print(\"Training Acc\",np.round(lr.score(trainX,trainY),2))\n",
    "    print(\"Testing Acc\",np.round(lr.score(testX,testY),2))"
   ]
  },
  {
   "cell_type": "raw",
   "metadata": {},
   "source": [
    "# Impact of Outliers on Linear Models¶ "
   ]
  },
  {
   "cell_type": "markdown",
   "metadata": {},
   "source": [
    "\n",
    "Interview Alert\n",
    "\n",
    "    Why does outliers impact linear models?\n",
    "    A. GD will try to find the line in such a way that the cumilative loss is minimal & outliers contribute heavily to the loss\n",
    "\n",
    "Dealing with outlier data\n",
    "\n",
    "    Filter the data during data cleaning\n",
    "    Using basic statistics to identify that\n",
    "    Advanced Linear models to deal with this\n",
    "\n"
   ]
  },
  {
   "cell_type": "code",
   "execution_count": null,
   "metadata": {},
   "outputs": [],
   "source": []
  },
  {
   "cell_type": "code",
   "execution_count": 61,
   "metadata": {},
   "outputs": [],
   "source": [
    "from sklearn.linear_model import RANSACRegressor"
   ]
  },
  {
   "cell_type": "code",
   "execution_count": 62,
   "metadata": {},
   "outputs": [],
   "source": [
    "rs_lr = RANSACRegressor()"
   ]
  }
 ],
 "metadata": {
  "kernelspec": {
   "display_name": "Python 3",
   "language": "python",
   "name": "python3"
  },
  "language_info": {
   "codemirror_mode": {
    "name": "ipython",
    "version": 3
   },
   "file_extension": ".py",
   "mimetype": "text/x-python",
   "name": "python",
   "nbconvert_exporter": "python",
   "pygments_lexer": "ipython3",
   "version": "3.7.6"
  }
 },
 "nbformat": 4,
 "nbformat_minor": 4
}
